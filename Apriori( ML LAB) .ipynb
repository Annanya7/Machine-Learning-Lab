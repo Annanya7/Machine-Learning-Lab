{
 "cells": [
  {
   "cell_type": "code",
   "execution_count": 11,
   "metadata": {},
   "outputs": [],
   "source": [
    "import numpy as np\n",
    "import pandas as pd"
   ]
  },
  {
   "cell_type": "code",
   "execution_count": 12,
   "metadata": {},
   "outputs": [],
   "source": [
    "df=pd.read_csv('Untitled Folder 7/ELEC.csv',header=None)"
   ]
  },
  {
   "cell_type": "code",
   "execution_count": 13,
   "metadata": {},
   "outputs": [
    {
     "data": {
      "text/plain": [
       "<bound method NDFrame.head of       0            1\n",
       "0   TID         List\n",
       "1  T100     I1,I2,I5\n",
       "2  T200        I2,I4\n",
       "3  T300        I2,I3\n",
       "4  T400     I1,I2,I4\n",
       "5  T500        I3,I1\n",
       "6  T600        I2,I3\n",
       "7  T700        13,I1\n",
       "8  T800  I1,I2,I3,I5\n",
       "9  T900     I1,I2,I3>"
      ]
     },
     "execution_count": 13,
     "metadata": {},
     "output_type": "execute_result"
    }
   ],
   "source": [
    "df.head"
   ]
  },
  {
   "cell_type": "code",
   "execution_count": 14,
   "metadata": {},
   "outputs": [],
   "source": [
    "transactions=[] #data preprocessing"
   ]
  },
  {
   "cell_type": "code",
   "execution_count": 17,
   "metadata": {},
   "outputs": [],
   "source": [
    "for i in range(0,10):\n",
    "    transactions.append([str(df.values[i, j]) for j in range(0,2)])"
   ]
  },
  {
   "cell_type": "code",
   "execution_count": 18,
   "metadata": {},
   "outputs": [],
   "source": [
    "#traiing the model\n",
    "from apyori import apriori\n",
    "rules=apriori(transactions=transactions, min_support=.003, min_confidence=.2, min_lift=3, min_length=2, max_length=2)"
   ]
  },
  {
   "cell_type": "code",
   "execution_count": 19,
   "metadata": {},
   "outputs": [
    {
     "data": {
      "text/plain": [
       "[RelationRecord(items=frozenset({'13,I1', 'T700'}), support=0.1, ordered_statistics=[OrderedStatistic(items_base=frozenset({'13,I1'}), items_add=frozenset({'T700'}), confidence=1.0, lift=10.0), OrderedStatistic(items_base=frozenset({'T700'}), items_add=frozenset({'13,I1'}), confidence=1.0, lift=10.0)]),\n",
       " RelationRecord(items=frozenset({'I1,I2,I3', 'T900'}), support=0.1, ordered_statistics=[OrderedStatistic(items_base=frozenset({'I1,I2,I3'}), items_add=frozenset({'T900'}), confidence=1.0, lift=10.0), OrderedStatistic(items_base=frozenset({'T900'}), items_add=frozenset({'I1,I2,I3'}), confidence=1.0, lift=10.0)]),\n",
       " RelationRecord(items=frozenset({'I1,I2,I3,I5', 'T800'}), support=0.1, ordered_statistics=[OrderedStatistic(items_base=frozenset({'I1,I2,I3,I5'}), items_add=frozenset({'T800'}), confidence=1.0, lift=10.0), OrderedStatistic(items_base=frozenset({'T800'}), items_add=frozenset({'I1,I2,I3,I5'}), confidence=1.0, lift=10.0)]),\n",
       " RelationRecord(items=frozenset({'T400', 'I1,I2,I4'}), support=0.1, ordered_statistics=[OrderedStatistic(items_base=frozenset({'I1,I2,I4'}), items_add=frozenset({'T400'}), confidence=1.0, lift=10.0), OrderedStatistic(items_base=frozenset({'T400'}), items_add=frozenset({'I1,I2,I4'}), confidence=1.0, lift=10.0)]),\n",
       " RelationRecord(items=frozenset({'I1,I2,I5', 'T100'}), support=0.1, ordered_statistics=[OrderedStatistic(items_base=frozenset({'I1,I2,I5'}), items_add=frozenset({'T100'}), confidence=1.0, lift=10.0), OrderedStatistic(items_base=frozenset({'T100'}), items_add=frozenset({'I1,I2,I5'}), confidence=1.0, lift=10.0)]),\n",
       " RelationRecord(items=frozenset({'T300', 'I2,I3'}), support=0.1, ordered_statistics=[OrderedStatistic(items_base=frozenset({'I2,I3'}), items_add=frozenset({'T300'}), confidence=0.5, lift=5.0), OrderedStatistic(items_base=frozenset({'T300'}), items_add=frozenset({'I2,I3'}), confidence=1.0, lift=5.0)]),\n",
       " RelationRecord(items=frozenset({'I2,I3', 'T600'}), support=0.1, ordered_statistics=[OrderedStatistic(items_base=frozenset({'I2,I3'}), items_add=frozenset({'T600'}), confidence=0.5, lift=5.0), OrderedStatistic(items_base=frozenset({'T600'}), items_add=frozenset({'I2,I3'}), confidence=1.0, lift=5.0)]),\n",
       " RelationRecord(items=frozenset({'I2,I4', 'T200'}), support=0.1, ordered_statistics=[OrderedStatistic(items_base=frozenset({'I2,I4'}), items_add=frozenset({'T200'}), confidence=1.0, lift=10.0), OrderedStatistic(items_base=frozenset({'T200'}), items_add=frozenset({'I2,I4'}), confidence=1.0, lift=10.0)]),\n",
       " RelationRecord(items=frozenset({'T500', 'I3,I1'}), support=0.1, ordered_statistics=[OrderedStatistic(items_base=frozenset({'I3,I1'}), items_add=frozenset({'T500'}), confidence=1.0, lift=10.0), OrderedStatistic(items_base=frozenset({'T500'}), items_add=frozenset({'I3,I1'}), confidence=1.0, lift=10.0)]),\n",
       " RelationRecord(items=frozenset({'TID', 'List'}), support=0.1, ordered_statistics=[OrderedStatistic(items_base=frozenset({'List'}), items_add=frozenset({'TID'}), confidence=1.0, lift=10.0), OrderedStatistic(items_base=frozenset({'TID'}), items_add=frozenset({'List'}), confidence=1.0, lift=10.0)])]"
      ]
     },
     "execution_count": 19,
     "metadata": {},
     "output_type": "execute_result"
    }
   ],
   "source": [
    "results=list(rules)\n",
    "results"
   ]
  },
  {
   "cell_type": "code",
   "execution_count": 20,
   "metadata": {},
   "outputs": [],
   "source": [
    "#organising data into pandas dataframe\n",
    "def inspect(results):\n",
    "    lhs = [tuple(result[2][0][0])[0] for result in results]\n",
    "    rhs = [tuple(result[2][0][1])[0] for result in results]\n",
    "    supports = [result[1] for result in results]\n",
    "    confidences =[result[2][0][2] for result in results]\n",
    "    lifts = [result[2][0][3] for result in results]\n",
    "    return list(zip(lhs,rhs,supports,confidences,lifts))\n",
    "resultsinDataFrame =pd.DataFrame(inspect(results),columns=['Left Hand Side','Right Hand Side','Support','Confidence', 'Lift'])"
   ]
  },
  {
   "cell_type": "code",
   "execution_count": 21,
   "metadata": {},
   "outputs": [
    {
     "name": "stdout",
     "output_type": "stream",
     "text": [
      "  Left Hand Side Right Hand Side  Support  Confidence  Lift\n",
      "0          13,I1            T700      0.1         1.0  10.0\n",
      "1       I1,I2,I3            T900      0.1         1.0  10.0\n",
      "2    I1,I2,I3,I5            T800      0.1         1.0  10.0\n",
      "3       I1,I2,I4            T400      0.1         1.0  10.0\n",
      "4       I1,I2,I5            T100      0.1         1.0  10.0\n",
      "5          I2,I3            T300      0.1         0.5   5.0\n",
      "6          I2,I3            T600      0.1         0.5   5.0\n",
      "7          I2,I4            T200      0.1         1.0  10.0\n",
      "8          I3,I1            T500      0.1         1.0  10.0\n",
      "9           List             TID      0.1         1.0  10.0\n"
     ]
    }
   ],
   "source": [
    "print(resultsinDataFrame)"
   ]
  },
  {
   "cell_type": "code",
   "execution_count": null,
   "metadata": {},
   "outputs": [],
   "source": []
  }
 ],
 "metadata": {
  "kernelspec": {
   "display_name": "Python 3",
   "language": "python",
   "name": "python3"
  },
  "language_info": {
   "codemirror_mode": {
    "name": "ipython",
    "version": 3
   },
   "file_extension": ".py",
   "mimetype": "text/x-python",
   "name": "python",
   "nbconvert_exporter": "python",
   "pygments_lexer": "ipython3",
   "version": "3.7.6"
  }
 },
 "nbformat": 4,
 "nbformat_minor": 4
}
